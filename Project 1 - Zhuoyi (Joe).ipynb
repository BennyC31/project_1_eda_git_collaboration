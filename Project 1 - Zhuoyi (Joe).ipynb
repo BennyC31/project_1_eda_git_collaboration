{
 "cells": [
  {
   "cell_type": "code",
   "execution_count": 144,
   "id": "eb61cc3a",
   "metadata": {
    "scrolled": true
   },
   "outputs": [
    {
     "data": {
      "text/html": [
       "<div>\n",
       "<style scoped>\n",
       "    .dataframe tbody tr th:only-of-type {\n",
       "        vertical-align: middle;\n",
       "    }\n",
       "\n",
       "    .dataframe tbody tr th {\n",
       "        vertical-align: top;\n",
       "    }\n",
       "\n",
       "    .dataframe thead th {\n",
       "        text-align: right;\n",
       "    }\n",
       "</style>\n",
       "<table border=\"1\" class=\"dataframe\">\n",
       "  <thead>\n",
       "    <tr style=\"text-align: right;\">\n",
       "      <th></th>\n",
       "      <th>show_id</th>\n",
       "      <th>type</th>\n",
       "      <th>title</th>\n",
       "      <th>director</th>\n",
       "      <th>cast</th>\n",
       "      <th>country</th>\n",
       "      <th>date_added</th>\n",
       "      <th>release_year</th>\n",
       "      <th>rating</th>\n",
       "      <th>duration</th>\n",
       "      <th>listed_in</th>\n",
       "      <th>description</th>\n",
       "    </tr>\n",
       "  </thead>\n",
       "  <tbody>\n",
       "    <tr>\n",
       "      <th>28</th>\n",
       "      <td>s29</td>\n",
       "      <td>Movie</td>\n",
       "      <td>Dark Skies</td>\n",
       "      <td>Scott Stewart</td>\n",
       "      <td>Keri Russell, Josh Hamilton, J.K. Simmons, Dak...</td>\n",
       "      <td>United States</td>\n",
       "      <td>September 19, 2021</td>\n",
       "      <td>2013</td>\n",
       "      <td>PG-13</td>\n",
       "      <td>97 min</td>\n",
       "      <td>Horror Movies, Sci-Fi &amp; Fantasy</td>\n",
       "      <td>A family’s idyllic suburban life shatters when...</td>\n",
       "    </tr>\n",
       "    <tr>\n",
       "      <th>42</th>\n",
       "      <td>s43</td>\n",
       "      <td>Movie</td>\n",
       "      <td>Jaws 2</td>\n",
       "      <td>Jeannot Szwarc</td>\n",
       "      <td>Roy Scheider, Lorraine Gary, Murray Hamilton, ...</td>\n",
       "      <td>United States</td>\n",
       "      <td>September 16, 2021</td>\n",
       "      <td>1978</td>\n",
       "      <td>PG</td>\n",
       "      <td>116 min</td>\n",
       "      <td>Dramas, Horror Movies, Thrillers</td>\n",
       "      <td>Four years after the last deadly shark attacks...</td>\n",
       "    </tr>\n",
       "    <tr>\n",
       "      <th>43</th>\n",
       "      <td>s44</td>\n",
       "      <td>Movie</td>\n",
       "      <td>Jaws 3</td>\n",
       "      <td>Joe Alves</td>\n",
       "      <td>Dennis Quaid, Bess Armstrong, Simon MacCorkind...</td>\n",
       "      <td>United States</td>\n",
       "      <td>September 16, 2021</td>\n",
       "      <td>1983</td>\n",
       "      <td>PG</td>\n",
       "      <td>98 min</td>\n",
       "      <td>Action &amp; Adventure, Horror Movies, Thrillers</td>\n",
       "      <td>After the staff of a marine theme park try to ...</td>\n",
       "    </tr>\n",
       "    <tr>\n",
       "      <th>44</th>\n",
       "      <td>s45</td>\n",
       "      <td>Movie</td>\n",
       "      <td>Jaws: The Revenge</td>\n",
       "      <td>Joseph Sargent</td>\n",
       "      <td>Lorraine Gary, Lance Guest, Mario Van Peebles,...</td>\n",
       "      <td>United States</td>\n",
       "      <td>September 16, 2021</td>\n",
       "      <td>1987</td>\n",
       "      <td>PG-13</td>\n",
       "      <td>91 min</td>\n",
       "      <td>Action &amp; Adventure, Horror Movies, Thrillers</td>\n",
       "      <td>After another deadly shark attack, Ellen Brody...</td>\n",
       "    </tr>\n",
       "    <tr>\n",
       "      <th>200</th>\n",
       "      <td>s201</td>\n",
       "      <td>Movie</td>\n",
       "      <td>Krishna Cottage</td>\n",
       "      <td>Santram Varma</td>\n",
       "      <td>Sohail Khan, Isha Koppikar, Natassha, Rati Agn...</td>\n",
       "      <td>India</td>\n",
       "      <td>August 27, 2021</td>\n",
       "      <td>2004</td>\n",
       "      <td>TV-14</td>\n",
       "      <td>124 min</td>\n",
       "      <td>Action &amp; Adventure, Horror Movies, Internation...</td>\n",
       "      <td>True love is put to the test when another woma...</td>\n",
       "    </tr>\n",
       "  </tbody>\n",
       "</table>\n",
       "</div>"
      ],
      "text/plain": [
       "    show_id   type              title        director  \\\n",
       "28      s29  Movie         Dark Skies   Scott Stewart   \n",
       "42      s43  Movie             Jaws 2  Jeannot Szwarc   \n",
       "43      s44  Movie             Jaws 3       Joe Alves   \n",
       "44      s45  Movie  Jaws: The Revenge  Joseph Sargent   \n",
       "200    s201  Movie    Krishna Cottage   Santram Varma   \n",
       "\n",
       "                                                  cast        country  \\\n",
       "28   Keri Russell, Josh Hamilton, J.K. Simmons, Dak...  United States   \n",
       "42   Roy Scheider, Lorraine Gary, Murray Hamilton, ...  United States   \n",
       "43   Dennis Quaid, Bess Armstrong, Simon MacCorkind...  United States   \n",
       "44   Lorraine Gary, Lance Guest, Mario Van Peebles,...  United States   \n",
       "200  Sohail Khan, Isha Koppikar, Natassha, Rati Agn...          India   \n",
       "\n",
       "             date_added  release_year rating duration  \\\n",
       "28   September 19, 2021          2013  PG-13   97 min   \n",
       "42   September 16, 2021          1978     PG  116 min   \n",
       "43   September 16, 2021          1983     PG   98 min   \n",
       "44   September 16, 2021          1987  PG-13   91 min   \n",
       "200     August 27, 2021          2004  TV-14  124 min   \n",
       "\n",
       "                                             listed_in  \\\n",
       "28                     Horror Movies, Sci-Fi & Fantasy   \n",
       "42                    Dramas, Horror Movies, Thrillers   \n",
       "43        Action & Adventure, Horror Movies, Thrillers   \n",
       "44        Action & Adventure, Horror Movies, Thrillers   \n",
       "200  Action & Adventure, Horror Movies, Internation...   \n",
       "\n",
       "                                           description  \n",
       "28   A family’s idyllic suburban life shatters when...  \n",
       "42   Four years after the last deadly shark attacks...  \n",
       "43   After the staff of a marine theme park try to ...  \n",
       "44   After another deadly shark attack, Ellen Brody...  \n",
       "200  True love is put to the test when another woma...  "
      ]
     },
     "execution_count": 144,
     "metadata": {},
     "output_type": "execute_result"
    }
   ],
   "source": [
    "import pandas as pd\n",
    "import numpy as np\n",
    "import matplotlib.pyplot as plt\n",
    "\n",
    "#reading the dataset\n",
    "df = pd.read_csv(\"/Users/mr19th/Desktop/homework/horror movies data/netflix_titles.csv\")\n",
    "\n",
    "#create a df that contains all horror movies\n",
    "horror_movies = df['listed_in'].str.contains('Horror Movies', case=False, na=False)\n",
    "df[horror_movies].head()"
   ]
  },
  {
   "cell_type": "code",
   "execution_count": 166,
   "id": "bccf35cc",
   "metadata": {},
   "outputs": [
    {
     "data": {
      "text/plain": [
       "release_year\n",
       "1942      2\n",
       "1943      3\n",
       "1944      3\n",
       "1945      3\n",
       "1946      1\n",
       "       ... \n",
       "2017    720\n",
       "2018    716\n",
       "2019    599\n",
       "2020    488\n",
       "2021    257\n",
       "Name: show_id, Length: 73, dtype: int64"
      ]
     },
     "execution_count": 166,
     "metadata": {},
     "output_type": "execute_result"
    }
   ],
   "source": [
    "#create a df that contains all movies, and count them\n",
    "df_total_movies = df[df[\"type\"].str.contains(\"Movie\")]\n",
    "df_total_movies.groupby([\"release_year\"])[\"show_id\"].count()\n",
    "\n",
    "#create a df that contains all movies other than horror movies, and count them\n",
    "df_other_movies = df_total_movies[~df_total_movies[\"listed_in\"].str.contains(\"Horror Movies\")]\n",
    "df_other_movies.groupby([\"release_year\"])[\"show_id\"].count()"
   ]
  },
  {
   "cell_type": "code",
   "execution_count": 138,
   "id": "e0d74788",
   "metadata": {},
   "outputs": [
    {
     "data": {
      "text/plain": [
       "release_year\n",
       "1968     1\n",
       "1974     1\n",
       "1976     1\n",
       "1977     1\n",
       "1978     1\n",
       "1981     1\n",
       "1983     1\n",
       "1985     1\n",
       "1987     2\n",
       "1988     2\n",
       "1990     1\n",
       "1992     2\n",
       "1995     1\n",
       "1996     1\n",
       "1997     2\n",
       "1999     2\n",
       "2000     4\n",
       "2001     1\n",
       "2002     1\n",
       "2003     5\n",
       "2004     3\n",
       "2005     3\n",
       "2006     5\n",
       "2007     4\n",
       "2008     5\n",
       "2009    12\n",
       "2010    11\n",
       "2011     8\n",
       "2012     7\n",
       "2013    15\n",
       "2014    19\n",
       "2015    20\n",
       "2016    32\n",
       "2017    47\n",
       "2018    51\n",
       "2019    34\n",
       "2020    29\n",
       "2021    20\n",
       "Name: show_id, dtype: int64"
      ]
     },
     "execution_count": 138,
     "metadata": {},
     "output_type": "execute_result"
    }
   ],
   "source": [
    "#counting the total Horror Movies release per year\n",
    "df[horror_movies].groupby([\"release_year\"])[\"show_id\"].count()"
   ]
  },
  {
   "cell_type": "code",
   "execution_count": 174,
   "id": "8d2e26f1",
   "metadata": {},
   "outputs": [
    {
     "data": {
      "image/png": "[encoded data removed]",
      "text/plain": [
       "<Figure size 432x288 with 1 Axes>"
      ]
     },
     "metadata": {
      "needs_background": "light"
     },
     "output_type": "display_data"
    }
   ],
   "source": [
    "#make a scatter plot comparing horror movie releases before (2017-2019) and after (2020-2021)the pandemic broke out\n",
    "\n",
    "year = [2017, 2018, 2019, 2020, 2021]\n",
    "test_list = [str(i) for i in year]\n",
    "movie_released = [47, 51, 34, 29, 20]\n",
    "x = test_list\n",
    "y = movie_released\n",
    "plt.scatter(x, y, facecolors= 'orange', edgecolors='orange')\n",
    "plt.title(\"Horror Movies Released from 2017 to 2021\")\n",
    "plt.ylabel(\"Number of Horror Movies released\")\n",
    "plt.xlabel(\"Release Year\")\n",
    "plt.plot(x, y, linewidth=2, color= \"orange\")\n",
    "plt.show()"
   ]
  },
  {
   "cell_type": "code",
   "execution_count": 175,
   "id": "bd69884d",
   "metadata": {},
   "outputs": [
    {
     "data": {
      "image/png": "[encoded data removed]",
      "text/plain": [
       "<Figure size 432x288 with 1 Axes>"
      ]
     },
     "metadata": {
      "needs_background": "light"
     },
     "output_type": "display_data"
    }
   ],
   "source": [
    "#create a stack line graph to show the relationship between horror movie releases and all other movie releases\n",
    "X = ['2017','2018','2019','2020', '2021']\n",
    "Horror_Movies_releases = [47, 51, 34, 29, 20]\n",
    "Other_Movies_releases = [720, 716, 599, 488, 257]\n",
    "Y1 = Horror_Movies_releases\n",
    "Y2 = Other_Movies_releases\n",
    "  \n",
    "X_axis = np.arange(len(X))\n",
    "  \n",
    "plt.bar(X, Y1, 0.4, label = 'Horror Movies Releases', color = 'orange')\n",
    "plt.bar(X, Y2, 0.4, bottom=Y1, label = 'Other Movies Releases', color = 'grey')\n",
    "  \n",
    "plt.xticks(X_axis, X)\n",
    "plt.xlabel(\"Movie Type\")\n",
    "plt.ylabel(\"Number of Releases\")\n",
    "plt.title(\"Horror Movies Releases vs Total Releases from 2017 to 2021\")\n",
    "plt.legend()\n",
    "plt.show()"
   ]
  }
 ],
 "metadata": {
  "kernelspec": {
   "display_name": "Python 3 (ipykernel)",
   "language": "python",
   "name": "python3"
  },
  "language_info": {
   "codemirror_mode": {
    "name": "ipython",
    "version": 3
   },
   "file_extension": ".py",
   "mimetype": "text/x-python",
   "name": "python",
   "nbconvert_exporter": "python",
   "pygments_lexer": "ipython3",
   "version": "3.9.12"
  }
 },
 "nbformat": 4,
 "nbformat_minor": 5
}
