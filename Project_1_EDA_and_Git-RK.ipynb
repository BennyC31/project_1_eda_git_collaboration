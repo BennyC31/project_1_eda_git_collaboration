{
 "cells": [
  {
   "cell_type": "code",
   "execution_count": 7,
   "id": "19d2b98b",
   "metadata": {
    "scrolled": true
   },
   "outputs": [],
   "source": [
    "# ROTHANA'S CHARTS AND GRAPHS (Exploratory Data Analysis)\n",
    "# Dependencies\n",
    "import pandas as pd\n",
    "import matplotlib.pyplot as plt\n",
    "import numpy as np\n",
    "\n",
    "# Import and read intended csv file\n",
    "csvfile = \"resources/IMDB Horror movies.csv\"\n",
    "horror_data = pd.read_csv(csvfile)\n"
   ]
  },
  {
   "cell_type": "code",
   "execution_count": 8,
   "id": "505e27d7",
   "metadata": {
    "scrolled": true
   },
   "outputs": [
    {
     "data": {
      "text/html": [
       "<div>\n",
       "<style scoped>\n",
       "    .dataframe tbody tr th:only-of-type {\n",
       "        vertical-align: middle;\n",
       "    }\n",
       "\n",
       "    .dataframe tbody tr th {\n",
       "        vertical-align: top;\n",
       "    }\n",
       "\n",
       "    .dataframe thead th {\n",
       "        text-align: right;\n",
       "    }\n",
       "</style>\n",
       "<table border=\"1\" class=\"dataframe\">\n",
       "  <thead>\n",
       "    <tr style=\"text-align: right;\">\n",
       "      <th></th>\n",
       "      <th>Title</th>\n",
       "      <th>Genres</th>\n",
       "      <th>Release Date</th>\n",
       "      <th>Release Year</th>\n",
       "      <th>Release Month</th>\n",
       "      <th>Release Country</th>\n",
       "      <th>Movie Rating</th>\n",
       "      <th>Review Rating</th>\n",
       "      <th>Movie Run Time</th>\n",
       "      <th>Language</th>\n",
       "    </tr>\n",
       "  </thead>\n",
       "  <tbody>\n",
       "    <tr>\n",
       "      <th>0</th>\n",
       "      <td>Gut (2012)</td>\n",
       "      <td>Drama| Horror| Thriller</td>\n",
       "      <td>26-Oct-12</td>\n",
       "      <td>2012</td>\n",
       "      <td>Oct</td>\n",
       "      <td>USA</td>\n",
       "      <td>NaN</td>\n",
       "      <td>3.9</td>\n",
       "      <td>91 min</td>\n",
       "      <td>English</td>\n",
       "    </tr>\n",
       "    <tr>\n",
       "      <th>1</th>\n",
       "      <td>The Haunting of Mia Moss (2017)</td>\n",
       "      <td>Horror</td>\n",
       "      <td>13-Jan-17</td>\n",
       "      <td>2017</td>\n",
       "      <td>Jan</td>\n",
       "      <td>USA</td>\n",
       "      <td>NaN</td>\n",
       "      <td>NaN</td>\n",
       "      <td>NaN</td>\n",
       "      <td>English</td>\n",
       "    </tr>\n",
       "    <tr>\n",
       "      <th>2</th>\n",
       "      <td>Sleepwalking (2017)</td>\n",
       "      <td>Horror</td>\n",
       "      <td>21-Oct-17</td>\n",
       "      <td>2017</td>\n",
       "      <td>Oct</td>\n",
       "      <td>Canada</td>\n",
       "      <td>NaN</td>\n",
       "      <td>NaN</td>\n",
       "      <td>NaN</td>\n",
       "      <td>English</td>\n",
       "    </tr>\n",
       "    <tr>\n",
       "      <th>3</th>\n",
       "      <td>Treasure Chest of Horrors II (2013)</td>\n",
       "      <td>Comedy| Horror| Thriller</td>\n",
       "      <td>23-Apr-13</td>\n",
       "      <td>2013</td>\n",
       "      <td>Apr</td>\n",
       "      <td>USA</td>\n",
       "      <td>NOT RATED</td>\n",
       "      <td>3.7</td>\n",
       "      <td>82 min</td>\n",
       "      <td>English</td>\n",
       "    </tr>\n",
       "    <tr>\n",
       "      <th>4</th>\n",
       "      <td>Infidus (2015)</td>\n",
       "      <td>Crime| Drama| Horror</td>\n",
       "      <td>10-Apr-15</td>\n",
       "      <td>2015</td>\n",
       "      <td>Apr</td>\n",
       "      <td>USA</td>\n",
       "      <td>NaN</td>\n",
       "      <td>5.8</td>\n",
       "      <td>80 min</td>\n",
       "      <td>Italian</td>\n",
       "    </tr>\n",
       "  </tbody>\n",
       "</table>\n",
       "</div>"
      ],
      "text/plain": [
       "                                 Title                     Genres  \\\n",
       "0                           Gut (2012)    Drama| Horror| Thriller   \n",
       "1      The Haunting of Mia Moss (2017)                     Horror   \n",
       "2                  Sleepwalking (2017)                     Horror   \n",
       "3  Treasure Chest of Horrors II (2013)   Comedy| Horror| Thriller   \n",
       "4                       Infidus (2015)       Crime| Drama| Horror   \n",
       "\n",
       "  Release Date  Release Year Release Month Release Country Movie Rating  \\\n",
       "0    26-Oct-12          2012           Oct             USA          NaN   \n",
       "1    13-Jan-17          2017           Jan             USA          NaN   \n",
       "2    21-Oct-17          2017           Oct          Canada          NaN   \n",
       "3    23-Apr-13          2013           Apr             USA    NOT RATED   \n",
       "4    10-Apr-15          2015           Apr             USA          NaN   \n",
       "\n",
       "   Review Rating Movie Run Time Language  \n",
       "0            3.9         91 min  English  \n",
       "1            NaN            NaN  English  \n",
       "2            NaN            NaN  English  \n",
       "3            3.7         82 min  English  \n",
       "4            5.8         80 min  Italian  "
      ]
     },
     "execution_count": 8,
     "metadata": {},
     "output_type": "execute_result"
    }
   ],
   "source": [
    "# Adding month and year columns\n",
    "horror_data['Release Year'] = pd.DatetimeIndex(horror_data['Release Date']).year\n",
    "horror_data['Release Month'] = pd.DatetimeIndex(horror_data['Release Date']).month_name().str.slice(stop=3)\n",
    "\n",
    "# Reorganizing columns\n",
    "horror_data = horror_data[[\"Title\", \"Genres\", \"Release Date\", \"Release Year\", \"Release Month\", \"Release Country\",\n",
    "                          \"Movie Rating\", \"Review Rating\", \"Movie Run Time\", \"Language\", \"Plot\", \"Cast\", \"Filming Locations\", \n",
    "                          \"Budget\"]]\n",
    "\n",
    "# Cleaning the data to remove columns not being used\n",
    "cd = horror_data.drop(columns=[\"Plot\", \"Cast\", \"Filming Locations\", \"Budget\"])\n",
    "cd.head()\n",
    "\n",
    "# Create a CSV with the Clean DataFrame (cd)\n",
    "cd.to_csv(\"output/clean_data(RK).csv\", index=False)"
   ]
  },
  {
   "cell_type": "code",
   "execution_count": 10,
   "id": "5b3241ce",
   "metadata": {
    "scrolled": false
   },
   "outputs": [
    {
     "data": {
      "text/plain": [
       "<matplotlib.axes._subplots.AxesSubplot at 0x1f517bf53c8>"
      ]
     },
     "execution_count": 10,
     "metadata": {},
     "output_type": "execute_result"
    },
    {
     "data": {
      "image/png": "[encoded data removed]",
      "text/plain": [
       "<Figure size 504x360 with 1 Axes>"
      ]
     },
     "metadata": {
      "needs_background": "light"
     },
     "output_type": "display_data"
    }
   ],
   "source": [
    "# What is the change in average ratings between 2012 and 2017?\n",
    "#=============================================================\n",
    "\n",
    "# Graphing Average Ratings for Per Year (AY)\n",
    "AY = cd.groupby([\"Release Year\"]).mean()[\"Review Rating\"]\n",
    "colors=[\"purple\", \"red\", \"orange\", \"brown\", \"gray\", \"black\"]\n",
    "AY.plot(kind ='bar', title=\"Average Rating Per Year\", color=colors,\n",
    "        ylim=(0, 7), figsize=(7, 5), align='center', alpha=0.75, edgecolor='black')"
   ]
  },
  {
   "cell_type": "code",
   "execution_count": 15,
   "id": "a6b29ea5",
   "metadata": {
    "scrolled": true
   },
   "outputs": [
    {
     "data": {
      "image/png": "[encoded data removed]",
      "text/plain": [
       "<Figure size 432x288 with 1 Axes>"
      ]
     },
     "metadata": {
      "needs_background": "light"
     },
     "output_type": "display_data"
    },
    {
     "data": {
      "text/plain": [
       "Release Month\n",
       "Apr    4.977470\n",
       "Aug    4.935747\n",
       "Dec    5.075000\n",
       "Feb    4.981106\n",
       "Jan    5.037197\n",
       "Jul    4.984163\n",
       "Jun    5.043204\n",
       "Mar    4.918548\n",
       "May    5.042079\n",
       "Nov    5.149223\n",
       "Oct    5.271538\n",
       "Sep    5.238291\n",
       "Name: Review Rating, dtype: float64"
      ]
     },
     "execution_count": 15,
     "metadata": {},
     "output_type": "execute_result"
    }
   ],
   "source": [
    "# Which release month is the most popular for each country in the data set?\n",
    "#==========================================================================\n",
    "#Graphing\n",
    "x_axis = cd[\"Release Month\"].unique()\n",
    "x_axis.sort()\n",
    "y = cd.groupby([\"Release Month\"]).mean()[\"Review Rating\"]\n",
    "colors = ['red', ]\n",
    "months = ['Jan', 'Feb', 'Mar', 'Apr', 'May', 'Jun', 'Jul', 'Aug','Sept', 'Oct', 'Nov', 'Dec']\n",
    "\n",
    "plt.bar(x_axis, y, color=colors, edgecolor='black', tick_label=(months), alpha=0.5)\n",
    "plt.title('Ratings per Month')\n",
    "plt.xlabel('Months')\n",
    "plt.xticks(rotation = 45)\n",
    "plt.ylabel('Rating')\n",
    "plt.ylim(0, 7)\n",
    "plt.show()\n",
    "y"
   ]
  },
  {
   "cell_type": "code",
   "execution_count": 12,
   "id": "2dbd6b66",
   "metadata": {},
   "outputs": [
    {
     "data": {
      "text/html": [
       "<div>\n",
       "<style scoped>\n",
       "    .dataframe tbody tr th:only-of-type {\n",
       "        vertical-align: middle;\n",
       "    }\n",
       "\n",
       "    .dataframe tbody tr th {\n",
       "        vertical-align: top;\n",
       "    }\n",
       "\n",
       "    .dataframe thead th {\n",
       "        text-align: right;\n",
       "    }\n",
       "</style>\n",
       "<table border=\"1\" class=\"dataframe\">\n",
       "  <thead>\n",
       "    <tr style=\"text-align: right;\">\n",
       "      <th></th>\n",
       "      <th>Title</th>\n",
       "      <th>Genres</th>\n",
       "      <th>Release Date</th>\n",
       "      <th>Release Year</th>\n",
       "      <th>Release Month</th>\n",
       "      <th>Release Country</th>\n",
       "      <th>Movie Rating</th>\n",
       "      <th>Review Rating</th>\n",
       "      <th>Movie Run Time</th>\n",
       "      <th>Language</th>\n",
       "    </tr>\n",
       "  </thead>\n",
       "  <tbody>\n",
       "    <tr>\n",
       "      <th>2569</th>\n",
       "      <td>Bonehill Road (2017)</td>\n",
       "      <td>Horror</td>\n",
       "      <td>27-Oct-17</td>\n",
       "      <td>2017</td>\n",
       "      <td>Oct</td>\n",
       "      <td>USA</td>\n",
       "      <td>NaN</td>\n",
       "      <td>9.8</td>\n",
       "      <td>NaN</td>\n",
       "      <td>English</td>\n",
       "    </tr>\n",
       "  </tbody>\n",
       "</table>\n",
       "</div>"
      ],
      "text/plain": [
       "                     Title   Genres Release Date  Release Year Release Month  \\\n",
       "2569  Bonehill Road (2017)   Horror    27-Oct-17          2017           Oct   \n",
       "\n",
       "     Release Country Movie Rating  Review Rating Movie Run Time Language  \n",
       "2569             USA          NaN            9.8            NaN  English  "
      ]
     },
     "execution_count": 12,
     "metadata": {},
     "output_type": "execute_result"
    }
   ],
   "source": [
    "# Identify Movies with the highest rating\n",
    "highest_rate = cd[cd['Review Rating'] == cd['Review Rating'].max()]\n",
    "highest_rate"
   ]
  },
  {
   "cell_type": "code",
   "execution_count": 13,
   "id": "7cff6b94",
   "metadata": {},
   "outputs": [
    {
     "data": {
      "text/html": [
       "<div>\n",
       "<style scoped>\n",
       "    .dataframe tbody tr th:only-of-type {\n",
       "        vertical-align: middle;\n",
       "    }\n",
       "\n",
       "    .dataframe tbody tr th {\n",
       "        vertical-align: top;\n",
       "    }\n",
       "\n",
       "    .dataframe thead th {\n",
       "        text-align: right;\n",
       "    }\n",
       "</style>\n",
       "<table border=\"1\" class=\"dataframe\">\n",
       "  <thead>\n",
       "    <tr style=\"text-align: right;\">\n",
       "      <th></th>\n",
       "      <th>Title</th>\n",
       "      <th>Genres</th>\n",
       "      <th>Release Date</th>\n",
       "      <th>Release Year</th>\n",
       "      <th>Release Month</th>\n",
       "      <th>Release Country</th>\n",
       "      <th>Movie Rating</th>\n",
       "      <th>Review Rating</th>\n",
       "      <th>Movie Run Time</th>\n",
       "      <th>Language</th>\n",
       "    </tr>\n",
       "  </thead>\n",
       "  <tbody>\n",
       "    <tr>\n",
       "      <th>1499</th>\n",
       "      <td>Countrycide (2017)</td>\n",
       "      <td>Horror</td>\n",
       "      <td>8-Sep-17</td>\n",
       "      <td>2017</td>\n",
       "      <td>Sep</td>\n",
       "      <td>USA</td>\n",
       "      <td>NaN</td>\n",
       "      <td>1.0</td>\n",
       "      <td>NaN</td>\n",
       "      <td>English</td>\n",
       "    </tr>\n",
       "    <tr>\n",
       "      <th>1691</th>\n",
       "      <td>Una Comedia Macabra (2017)</td>\n",
       "      <td>Comedy| Horror</td>\n",
       "      <td>21-Sep-17</td>\n",
       "      <td>2017</td>\n",
       "      <td>Sep</td>\n",
       "      <td>Peru</td>\n",
       "      <td>NaN</td>\n",
       "      <td>1.0</td>\n",
       "      <td>91 min</td>\n",
       "      <td>Spanish</td>\n",
       "    </tr>\n",
       "  </tbody>\n",
       "</table>\n",
       "</div>"
      ],
      "text/plain": [
       "                           Title           Genres Release Date  Release Year  \\\n",
       "1499          Countrycide (2017)           Horror     8-Sep-17          2017   \n",
       "1691  Una Comedia Macabra (2017)   Comedy| Horror    21-Sep-17          2017   \n",
       "\n",
       "     Release Month Release Country Movie Rating  Review Rating Movie Run Time  \\\n",
       "1499           Sep             USA          NaN            1.0            NaN   \n",
       "1691           Sep            Peru          NaN            1.0         91 min   \n",
       "\n",
       "     Language  \n",
       "1499  English  \n",
       "1691  Spanish  "
      ]
     },
     "execution_count": 13,
     "metadata": {},
     "output_type": "execute_result"
    }
   ],
   "source": [
    "# Identify Movies with the lowest rating\n",
    "lowest_rate = cd[cd['Review Rating'] == cd['Review Rating'].min()]\n",
    "lowest_rate"
   ]
  },
  {
   "cell_type": "code",
   "execution_count": 59,
   "id": "e24249fb",
   "metadata": {},
   "outputs": [
    {
     "ename": "AttributeError",
     "evalue": "'Series' object has no attribute 'sort'",
     "output_type": "error",
     "traceback": [
      "\u001b[1;31m---------------------------------------------------------------------------\u001b[0m",
      "\u001b[1;31mAttributeError\u001b[0m                            Traceback (most recent call last)",
      "\u001b[1;32m~\\AppData\\Local\\Temp\\ipykernel_3724\\3378761091.py\u001b[0m in \u001b[0;36m<module>\u001b[1;34m\u001b[0m\n\u001b[0;32m      1\u001b[0m \u001b[0marr\u001b[0m \u001b[1;33m=\u001b[0m \u001b[0mcd\u001b[0m\u001b[1;33m.\u001b[0m\u001b[0mgroupby\u001b[0m\u001b[1;33m(\u001b[0m\u001b[1;33m[\u001b[0m\u001b[1;34m\"Release Country\"\u001b[0m\u001b[1;33m]\u001b[0m\u001b[1;33m)\u001b[0m\u001b[1;33m[\u001b[0m\u001b[1;34m'Release Month'\u001b[0m\u001b[1;33m]\u001b[0m\u001b[1;33m.\u001b[0m\u001b[0mvalue_counts\u001b[0m\u001b[1;33m(\u001b[0m\u001b[1;33m)\u001b[0m\u001b[1;31m#.max(level=0)\u001b[0m\u001b[1;33m\u001b[0m\u001b[1;33m\u001b[0m\u001b[0m\n\u001b[0;32m      2\u001b[0m \u001b[0mar\u001b[0m \u001b[1;33m=\u001b[0m \u001b[0mpd\u001b[0m\u001b[1;33m.\u001b[0m\u001b[0mDataFrame\u001b[0m\u001b[1;33m(\u001b[0m\u001b[0marr\u001b[0m\u001b[1;33m)\u001b[0m\u001b[1;33m\u001b[0m\u001b[1;33m\u001b[0m\u001b[0m\n\u001b[1;32m----> 3\u001b[1;33m \u001b[0marr\u001b[0m\u001b[1;33m.\u001b[0m\u001b[0msort\u001b[0m\u001b[1;33m(\u001b[0m\u001b[1;33m)\u001b[0m\u001b[1;33m\u001b[0m\u001b[1;33m\u001b[0m\u001b[0m\n\u001b[0m",
      "\u001b[1;32m~\\anaconda3\\envs\\PythonData\\lib\\site-packages\\pandas\\core\\generic.py\u001b[0m in \u001b[0;36m__getattr__\u001b[1;34m(self, name)\u001b[0m\n\u001b[0;32m   5272\u001b[0m             \u001b[1;32mif\u001b[0m \u001b[0mself\u001b[0m\u001b[1;33m.\u001b[0m\u001b[0m_info_axis\u001b[0m\u001b[1;33m.\u001b[0m\u001b[0m_can_hold_identifiers_and_holds_name\u001b[0m\u001b[1;33m(\u001b[0m\u001b[0mname\u001b[0m\u001b[1;33m)\u001b[0m\u001b[1;33m:\u001b[0m\u001b[1;33m\u001b[0m\u001b[1;33m\u001b[0m\u001b[0m\n\u001b[0;32m   5273\u001b[0m                 \u001b[1;32mreturn\u001b[0m \u001b[0mself\u001b[0m\u001b[1;33m[\u001b[0m\u001b[0mname\u001b[0m\u001b[1;33m]\u001b[0m\u001b[1;33m\u001b[0m\u001b[1;33m\u001b[0m\u001b[0m\n\u001b[1;32m-> 5274\u001b[1;33m             \u001b[1;32mreturn\u001b[0m \u001b[0mobject\u001b[0m\u001b[1;33m.\u001b[0m\u001b[0m__getattribute__\u001b[0m\u001b[1;33m(\u001b[0m\u001b[0mself\u001b[0m\u001b[1;33m,\u001b[0m \u001b[0mname\u001b[0m\u001b[1;33m)\u001b[0m\u001b[1;33m\u001b[0m\u001b[1;33m\u001b[0m\u001b[0m\n\u001b[0m\u001b[0;32m   5275\u001b[0m \u001b[1;33m\u001b[0m\u001b[0m\n\u001b[0;32m   5276\u001b[0m     \u001b[1;32mdef\u001b[0m \u001b[0m__setattr__\u001b[0m\u001b[1;33m(\u001b[0m\u001b[0mself\u001b[0m\u001b[1;33m,\u001b[0m \u001b[0mname\u001b[0m\u001b[1;33m:\u001b[0m \u001b[0mstr\u001b[0m\u001b[1;33m,\u001b[0m \u001b[0mvalue\u001b[0m\u001b[1;33m)\u001b[0m \u001b[1;33m->\u001b[0m \u001b[1;32mNone\u001b[0m\u001b[1;33m:\u001b[0m\u001b[1;33m\u001b[0m\u001b[1;33m\u001b[0m\u001b[0m\n",
      "\u001b[1;31mAttributeError\u001b[0m: 'Series' object has no attribute 'sort'"
     ]
    }
   ],
   "source": [
    "arr = cd.groupby([\"Release Country\"])['Release Month'].value_counts()#.max(level=0)\n",
    "ar = pd.DataFrame(arr)\n",
    "arr.sort()"
   ]
  },
  {
   "cell_type": "code",
   "execution_count": null,
   "id": "c921a83e",
   "metadata": {},
   "outputs": [],
   "source": []
  }
 ],
 "metadata": {
  "kernelspec": {
   "display_name": "Python 3 (ipykernel)",
   "language": "python",
   "name": "python3"
  },
  "language_info": {
   "codemirror_mode": {
    "name": "ipython",
    "version": 3
   },
   "file_extension": ".py",
   "mimetype": "text/x-python",
   "name": "python",
   "nbconvert_exporter": "python",
   "pygments_lexer": "ipython3",
   "version": "3.7.7"
  }
 },
 "nbformat": 4,
 "nbformat_minor": 5
}
