{
 "cells": [
  {
   "cell_type": "code",
   "execution_count": 69,
   "id": "37e76784",
   "metadata": {
    "scrolled": true
   },
   "outputs": [],
   "source": [
    "# ROTHANA'S CHARTS AND GRAPHS (Exploratory Data Analysis)\n",
    "# Dependencies\n",
    "import pandas as pd\n",
    "import matplotlib.pyplot as plt\n",
    "import numpy as np\n",
    "\n",
    "# Import and read intended csv file\n",
    "csvfile = \"resources/IMDB Horror movies.csv\"\n",
    "horror_data = pd.read_csv(csvfile)\n"
   ]
  },
  {
   "cell_type": "code",
   "execution_count": 70,
   "id": "13a54880",
   "metadata": {
    "scrolled": true
   },
   "outputs": [],
   "source": [
    "# Adding month and year columns\n",
    "horror_data['Release Year'] = pd.DatetimeIndex(horror_data['Release Date']).year\n",
    "horror_data['Release Month'] = pd.DatetimeIndex(horror_data['Release Date']).month_name().str.slice(stop=3)\n",
    "\n",
    "# Reorganizing columns\n",
    "horror_data = horror_data[[\"Title\", \"Genres\", \"Release Date\", \"Release Year\", \"Release Month\", \"Release Country\",\n",
    "                          \"Movie Rating\", \"Review Rating\", \"Movie Run Time\", \"Language\", \"Plot\", \"Cast\", \"Filming Locations\", \n",
    "                          \"Budget\"]]\n",
    "\n",
    "# Cleaning the data to remove columns not being used\n",
    "cd = horror_data.drop(columns=[\"Plot\", \"Cast\", \"Filming Locations\", \"Budget\"])\n",
    "cd.head()\n",
    "\n",
    "# Create a CSV with the Clean DataFrame (cd)\n",
    "cd.to_csv(\"output/clean_data(RK).csv\", index=False)"
   ]
  },
  {
   "cell_type": "code",
   "execution_count": 84,
   "id": "0b867f6f",
   "metadata": {
    "scrolled": false
   },
   "outputs": [
    {
     "data": {
      "image/png": "[encoded data removed]",
      "text/plain": [
       "<Figure size 432x288 with 1 Axes>"
      ]
     },
     "metadata": {
      "needs_background": "light"
     },
     "output_type": "display_data"
    },
    {
     "data": {
      "text/plain": [
       "0    4.738663\n",
       "1    4.850469\n",
       "2    4.920424\n",
       "3    4.967116\n",
       "4    5.192247\n",
       "5    5.586833\n",
       "Name: Review Rating, dtype: float64"
      ]
     },
     "execution_count": 84,
     "metadata": {},
     "output_type": "execute_result"
    }
   ],
   "source": [
    "# What is the change in average ratings between 2012 and 2017?\n",
    "#=============================================================\n",
    "\n",
    "# Graphing Average Ratings for Per Year (AY)\n",
    "AY = cd.groupby([\"Release Year\"]).mean()[\"Review Rating\"]\n",
    "AvePerYear = pd.DataFrame(AY).reset_index()\n",
    "x = AvePerYear['Release Year']\n",
    "y = AvePerYear['Review Rating']\n",
    "colors=[\"purple\", \"red\", \"orange\", \"brown\", \"gray\", \"black\"]\n",
    "\n",
    "\n",
    "plt.ylim(0, 7)\n",
    "plt.title(\"Average Rating Per Year\")\n",
    "plt.ylabel(\"Average Rating\")\n",
    "plt.xlabel(\"Release Year\")\n",
    "plt.bar(x, y, color=colors, align='center', alpha=0.70, edgecolor='black', width=.70)\n",
    "plt.savefig('output/AvePerYear.png')\n",
    "plt.show()\n",
    "y"
   ]
  },
  {
   "cell_type": "code",
   "execution_count": 72,
   "id": "4d1d076e",
   "metadata": {
    "scrolled": true
   },
   "outputs": [],
   "source": [
    "# Which release month is the most popular for each country in the data set?\n",
    "#==========================================================================\n",
    "#Graphing\n",
    "x_axis = cd[\"Release Month\"].unique()\n",
    "x_axis.sort()\n",
    "y = cd.groupby([\"Release Month\"]).mean()[\"Review Rating\"]\n",
    "colors = ['red', ]\n",
    "months = ['Jan', 'Feb', 'Mar', 'Apr', 'May', 'Jun', 'Jul', 'Aug','Sept', 'Oct', 'Nov', 'Dec']\n",
    "\n"
   ]
  },
  {
   "cell_type": "code",
   "execution_count": 73,
   "id": "63631eb2",
   "metadata": {},
   "outputs": [
    {
     "data": {
      "text/html": [
       "<div>\n",
       "<style scoped>\n",
       "    .dataframe tbody tr th:only-of-type {\n",
       "        vertical-align: middle;\n",
       "    }\n",
       "\n",
       "    .dataframe tbody tr th {\n",
       "        vertical-align: top;\n",
       "    }\n",
       "\n",
       "    .dataframe thead th {\n",
       "        text-align: right;\n",
       "    }\n",
       "</style>\n",
       "<table border=\"1\" class=\"dataframe\">\n",
       "  <thead>\n",
       "    <tr style=\"text-align: right;\">\n",
       "      <th></th>\n",
       "      <th>Title</th>\n",
       "      <th>Genres</th>\n",
       "      <th>Release Date</th>\n",
       "      <th>Release Year</th>\n",
       "      <th>Release Month</th>\n",
       "      <th>Release Country</th>\n",
       "      <th>Movie Rating</th>\n",
       "      <th>Review Rating</th>\n",
       "      <th>Movie Run Time</th>\n",
       "      <th>Language</th>\n",
       "    </tr>\n",
       "  </thead>\n",
       "  <tbody>\n",
       "    <tr>\n",
       "      <th>2569</th>\n",
       "      <td>Bonehill Road (2017)</td>\n",
       "      <td>Horror</td>\n",
       "      <td>27-Oct-17</td>\n",
       "      <td>2017</td>\n",
       "      <td>Oct</td>\n",
       "      <td>USA</td>\n",
       "      <td>NaN</td>\n",
       "      <td>9.8</td>\n",
       "      <td>NaN</td>\n",
       "      <td>English</td>\n",
       "    </tr>\n",
       "  </tbody>\n",
       "</table>\n",
       "</div>"
      ],
      "text/plain": [
       "                     Title   Genres Release Date  Release Year Release Month  \\\n",
       "2569  Bonehill Road (2017)   Horror    27-Oct-17          2017           Oct   \n",
       "\n",
       "     Release Country Movie Rating  Review Rating Movie Run Time Language  \n",
       "2569             USA          NaN            9.8            NaN  English  "
      ]
     },
     "execution_count": 73,
     "metadata": {},
     "output_type": "execute_result"
    }
   ],
   "source": [
    "# Identify Movies with the highest rating\n",
    "highest_rate = cd[cd['Review Rating'] == cd['Review Rating'].max()]\n",
    "highest_rate"
   ]
  },
  {
   "cell_type": "code",
   "execution_count": 74,
   "id": "581eca75",
   "metadata": {},
   "outputs": [
    {
     "data": {
      "text/html": [
       "<div>\n",
       "<style scoped>\n",
       "    .dataframe tbody tr th:only-of-type {\n",
       "        vertical-align: middle;\n",
       "    }\n",
       "\n",
       "    .dataframe tbody tr th {\n",
       "        vertical-align: top;\n",
       "    }\n",
       "\n",
       "    .dataframe thead th {\n",
       "        text-align: right;\n",
       "    }\n",
       "</style>\n",
       "<table border=\"1\" class=\"dataframe\">\n",
       "  <thead>\n",
       "    <tr style=\"text-align: right;\">\n",
       "      <th></th>\n",
       "      <th>Title</th>\n",
       "      <th>Genres</th>\n",
       "      <th>Release Date</th>\n",
       "      <th>Release Year</th>\n",
       "      <th>Release Month</th>\n",
       "      <th>Release Country</th>\n",
       "      <th>Movie Rating</th>\n",
       "      <th>Review Rating</th>\n",
       "      <th>Movie Run Time</th>\n",
       "      <th>Language</th>\n",
       "    </tr>\n",
       "  </thead>\n",
       "  <tbody>\n",
       "    <tr>\n",
       "      <th>1499</th>\n",
       "      <td>Countrycide (2017)</td>\n",
       "      <td>Horror</td>\n",
       "      <td>8-Sep-17</td>\n",
       "      <td>2017</td>\n",
       "      <td>Sep</td>\n",
       "      <td>USA</td>\n",
       "      <td>NaN</td>\n",
       "      <td>1.0</td>\n",
       "      <td>NaN</td>\n",
       "      <td>English</td>\n",
       "    </tr>\n",
       "    <tr>\n",
       "      <th>1691</th>\n",
       "      <td>Una Comedia Macabra (2017)</td>\n",
       "      <td>Comedy| Horror</td>\n",
       "      <td>21-Sep-17</td>\n",
       "      <td>2017</td>\n",
       "      <td>Sep</td>\n",
       "      <td>Peru</td>\n",
       "      <td>NaN</td>\n",
       "      <td>1.0</td>\n",
       "      <td>91 min</td>\n",
       "      <td>Spanish</td>\n",
       "    </tr>\n",
       "  </tbody>\n",
       "</table>\n",
       "</div>"
      ],
      "text/plain": [
       "                           Title           Genres Release Date  Release Year  \\\n",
       "1499          Countrycide (2017)           Horror     8-Sep-17          2017   \n",
       "1691  Una Comedia Macabra (2017)   Comedy| Horror    21-Sep-17          2017   \n",
       "\n",
       "     Release Month Release Country Movie Rating  Review Rating Movie Run Time  \\\n",
       "1499           Sep             USA          NaN            1.0            NaN   \n",
       "1691           Sep            Peru          NaN            1.0         91 min   \n",
       "\n",
       "     Language  \n",
       "1499  English  \n",
       "1691  Spanish  "
      ]
     },
     "execution_count": 74,
     "metadata": {},
     "output_type": "execute_result"
    }
   ],
   "source": [
    "# Identify Movies with the lowest rating\n",
    "lowest_rate = cd[cd['Review Rating'] == cd['Review Rating'].min()]\n",
    "lowest_rate"
   ]
  },
  {
   "cell_type": "code",
   "execution_count": 75,
   "id": "dcd0ec60",
   "metadata": {},
   "outputs": [
    {
     "data": {
      "text/html": [
       "<div>\n",
       "<style scoped>\n",
       "    .dataframe tbody tr th:only-of-type {\n",
       "        vertical-align: middle;\n",
       "    }\n",
       "\n",
       "    .dataframe tbody tr th {\n",
       "        vertical-align: top;\n",
       "    }\n",
       "\n",
       "    .dataframe thead th {\n",
       "        text-align: right;\n",
       "    }\n",
       "</style>\n",
       "<table border=\"1\" class=\"dataframe\">\n",
       "  <thead>\n",
       "    <tr style=\"text-align: right;\">\n",
       "      <th></th>\n",
       "      <th></th>\n",
       "      <th>Release Month</th>\n",
       "    </tr>\n",
       "    <tr>\n",
       "      <th>Release Country</th>\n",
       "      <th>Release Month</th>\n",
       "      <th></th>\n",
       "    </tr>\n",
       "  </thead>\n",
       "  <tbody>\n",
       "    <tr>\n",
       "      <th rowspan=\"5\" valign=\"top\">Argentina</th>\n",
       "      <th>Mar</th>\n",
       "      <td>3</td>\n",
       "    </tr>\n",
       "    <tr>\n",
       "      <th>Apr</th>\n",
       "      <td>2</td>\n",
       "    </tr>\n",
       "    <tr>\n",
       "      <th>Feb</th>\n",
       "      <td>2</td>\n",
       "    </tr>\n",
       "    <tr>\n",
       "      <th>Jan</th>\n",
       "      <td>2</td>\n",
       "    </tr>\n",
       "    <tr>\n",
       "      <th>Dec</th>\n",
       "      <td>1</td>\n",
       "    </tr>\n",
       "    <tr>\n",
       "      <th>...</th>\n",
       "      <th>...</th>\n",
       "      <td>...</td>\n",
       "    </tr>\n",
       "    <tr>\n",
       "      <th rowspan=\"5\" valign=\"top\">Vietnam</th>\n",
       "      <th>Feb</th>\n",
       "      <td>1</td>\n",
       "    </tr>\n",
       "    <tr>\n",
       "      <th>Jan</th>\n",
       "      <td>1</td>\n",
       "    </tr>\n",
       "    <tr>\n",
       "      <th>Jul</th>\n",
       "      <td>1</td>\n",
       "    </tr>\n",
       "    <tr>\n",
       "      <th>May</th>\n",
       "      <td>1</td>\n",
       "    </tr>\n",
       "    <tr>\n",
       "      <th>Sep</th>\n",
       "      <td>1</td>\n",
       "    </tr>\n",
       "  </tbody>\n",
       "</table>\n",
       "<p>385 rows × 1 columns</p>\n",
       "</div>"
      ],
      "text/plain": [
       "                               Release Month\n",
       "Release Country Release Month               \n",
       "Argentina       Mar                        3\n",
       "                Apr                        2\n",
       "                Feb                        2\n",
       "                Jan                        2\n",
       "                Dec                        1\n",
       "...                                      ...\n",
       "Vietnam         Feb                        1\n",
       "                Jan                        1\n",
       "                Jul                        1\n",
       "                May                        1\n",
       "                Sep                        1\n",
       "\n",
       "[385 rows x 1 columns]"
      ]
     },
     "execution_count": 75,
     "metadata": {},
     "output_type": "execute_result"
    }
   ],
   "source": [
    "arr = cd.groupby([\"Release Country\"])['Release Month'].value_counts()#.max(level=0)\n",
    "ar = pd.DataFrame(arr)\n",
    "ar"
   ]
  },
  {
   "cell_type": "code",
   "execution_count": null,
   "id": "85b3600b",
   "metadata": {},
   "outputs": [],
   "source": []
  }
 ],
 "metadata": {
  "kernelspec": {
   "display_name": "Python 3 (ipykernel)",
   "language": "python",
   "name": "python3"
  },
  "language_info": {
   "codemirror_mode": {
    "name": "ipython",
    "version": 3
   },
   "file_extension": ".py",
   "mimetype": "text/x-python",
   "name": "python",
   "nbconvert_exporter": "python",
   "pygments_lexer": "ipython3",
   "version": "3.7.7"
  }
 },
 "nbformat": 4,
 "nbformat_minor": 5
}
