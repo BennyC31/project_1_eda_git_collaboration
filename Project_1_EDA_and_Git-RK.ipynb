{
 "cells": [
  {
   "cell_type": "code",
   "execution_count": 4,
   "id": "ca916997",
   "metadata": {
    "scrolled": true
   },
   "outputs": [],
   "source": [
    "# ROTHANA'S CHARTS AND GRAPHS (Exploratory Data Analysis)\n",
    "# Dependencies\n",
    "import pandas as pd\n",
    "import matplotlib.pyplot as plt\n",
    "import numpy as np\n",
    "\n",
    "# Import and read intended csv file\n",
    "csvfile = \"resources/IMDB Horror movies.csv\"\n",
    "horror_data = pd.read_csv(csvfile)\n"
   ]
  },
  {
   "cell_type": "code",
   "execution_count": 5,
   "id": "4dd6fc31",
   "metadata": {
    "scrolled": true
   },
   "outputs": [],
   "source": [
    "# Adding month and year columns\n",
    "horror_data['Release Year'] = pd.DatetimeIndex(horror_data['Release Date']).year\n",
    "horror_data['Release Month'] = pd.DatetimeIndex(horror_data['Release Date']).month\n",
    "\n",
    "# Reorganizing columns\n",
    "horror_data = horror_data[[\"Title\", \"Genres\", \"Release Date\", \"Release Year\", \"Release Month\", \"Release Country\",\n",
    "                          \"Movie Rating\", \"Review Rating\", \"Movie Run Time\", \"Language\", \"Plot\", \"Cast\", \"Filming Locations\", \n",
    "                          \"Budget\"]]\n",
    "\n",
    "# Cleaning the data to remove columns not being used\n",
    "cd = horror_data.drop(columns=[\"Plot\", \"Cast\", \"Filming Locations\", \"Budget\"])\n"
   ]
  },
  {
   "cell_type": "code",
   "execution_count": 13,
   "id": "e15608f3",
   "metadata": {
    "scrolled": false
   },
   "outputs": [
    {
     "data": {
      "text/plain": [
       "<matplotlib.axes._subplots.AxesSubplot at 0x248c8722a08>"
      ]
     },
     "execution_count": 13,
     "metadata": {},
     "output_type": "execute_result"
    },
    {
     "data": {
      "image/png": "[encoded data removed]",
      "text/plain": [
       "<Figure size 504x360 with 1 Axes>"
      ]
     },
     "metadata": {
      "needs_background": "light"
     },
     "output_type": "display_data"
    }
   ],
   "source": [
    "# What is the change in average ratings between 2012 and 2017?\n",
    "#=============================================================\n",
    "\n",
    "# Graphing Average Ratings for Per Year (AY)\n",
    "AY = cd.groupby([\"Release Year\"]).mean()[\"Review Rating\"]\n",
    "colors=[\"purple\", \"red\", \"orange\", \"brown\", \"gray\", \"black\"]\n",
    "AY.plot(kind ='bar', title=\"Average Rating Per Year\", color=colors,\n",
    "        ylim=(0, 7), figsize=(7, 5), align='center', alpha=0.75, edgecolor='black')"
   ]
  },
  {
   "cell_type": "code",
   "execution_count": 8,
   "id": "c493a96b",
   "metadata": {
    "scrolled": true
   },
   "outputs": [
    {
     "data": {
      "image/png": "[encoded data removed]",
      "text/plain": [
       "<Figure size 432x288 with 1 Axes>"
      ]
     },
     "metadata": {
      "needs_background": "light"
     },
     "output_type": "display_data"
    },
    {
     "data": {
      "text/plain": [
       "Release Month\n",
       "1     5.037197\n",
       "2     4.981106\n",
       "3     4.918548\n",
       "4     4.977470\n",
       "5     5.042079\n",
       "6     5.043204\n",
       "7     4.984163\n",
       "8     4.935747\n",
       "9     5.238291\n",
       "10    5.271538\n",
       "11    5.149223\n",
       "12    5.075000\n",
       "Name: Review Rating, dtype: float64"
      ]
     },
     "execution_count": 8,
     "metadata": {},
     "output_type": "execute_result"
    }
   ],
   "source": [
    "# Which release month is the most popular for each country in the data set?\n",
    "#==========================================================================\n",
    "#Graphing\n",
    "x_axis = cd[\"Release Month\"].unique()\n",
    "x_axis.sort()\n",
    "y = cd.groupby([\"Release Month\"]).mean()[\"Review Rating\"]\n",
    "colors = ['red', ]\n",
    "months = ['Jan', 'Feb', 'Mar', 'Apr', 'May', 'Jun', 'Jul', 'Aug','Sept', 'Oct', 'Nov', 'Dec']\n",
    "\n",
    "plt.bar(x_axis, y, color=colors, edgecolor='black', tick_label=(months), alpha=0.5)\n",
    "plt.title('Ratings per Month')\n",
    "plt.xlabel('Months')\n",
    "plt.xticks(rotation = 45)\n",
    "plt.ylabel('Rating')\n",
    "plt.ylim(0, 7)\n",
    "plt.show()\n",
    "y"
   ]
  },
  {
   "cell_type": "code",
   "execution_count": 13,
   "id": "059603c8",
   "metadata": {},
   "outputs": [
    {
     "data": {
      "text/html": [
       "<div>\n",
       "<style scoped>\n",
       "    .dataframe tbody tr th:only-of-type {\n",
       "        vertical-align: middle;\n",
       "    }\n",
       "\n",
       "    .dataframe tbody tr th {\n",
       "        vertical-align: top;\n",
       "    }\n",
       "\n",
       "    .dataframe thead th {\n",
       "        text-align: right;\n",
       "    }\n",
       "</style>\n",
       "<table border=\"1\" class=\"dataframe\">\n",
       "  <thead>\n",
       "    <tr style=\"text-align: right;\">\n",
       "      <th></th>\n",
       "      <th>Title</th>\n",
       "      <th>Genres</th>\n",
       "      <th>Release Date</th>\n",
       "      <th>Release Year</th>\n",
       "      <th>Release Month</th>\n",
       "      <th>Release Country</th>\n",
       "      <th>Movie Rating</th>\n",
       "      <th>Review Rating</th>\n",
       "      <th>Movie Run Time</th>\n",
       "      <th>Language</th>\n",
       "    </tr>\n",
       "  </thead>\n",
       "  <tbody>\n",
       "    <tr>\n",
       "      <th>2569</th>\n",
       "      <td>Bonehill Road (2017)</td>\n",
       "      <td>Horror</td>\n",
       "      <td>27-Oct-17</td>\n",
       "      <td>2017</td>\n",
       "      <td>10</td>\n",
       "      <td>USA</td>\n",
       "      <td>NaN</td>\n",
       "      <td>9.8</td>\n",
       "      <td>NaN</td>\n",
       "      <td>English</td>\n",
       "    </tr>\n",
       "  </tbody>\n",
       "</table>\n",
       "</div>"
      ],
      "text/plain": [
       "                     Title   Genres Release Date  Release Year  Release Month  \\\n",
       "2569  Bonehill Road (2017)   Horror    27-Oct-17          2017             10   \n",
       "\n",
       "     Release Country Movie Rating  Review Rating Movie Run Time Language  \n",
       "2569             USA          NaN            9.8            NaN  English  "
      ]
     },
     "execution_count": 13,
     "metadata": {},
     "output_type": "execute_result"
    }
   ],
   "source": [
    "# Identify Movies with the highest rating\n",
    "highest_rate = clean_data[clean_data['Review Rating'] == clean_data['Review Rating'].max()]\n",
    "highest_rate"
   ]
  },
  {
   "cell_type": "code",
   "execution_count": 14,
   "id": "a7ad6c62",
   "metadata": {},
   "outputs": [
    {
     "data": {
      "text/html": [
       "<div>\n",
       "<style scoped>\n",
       "    .dataframe tbody tr th:only-of-type {\n",
       "        vertical-align: middle;\n",
       "    }\n",
       "\n",
       "    .dataframe tbody tr th {\n",
       "        vertical-align: top;\n",
       "    }\n",
       "\n",
       "    .dataframe thead th {\n",
       "        text-align: right;\n",
       "    }\n",
       "</style>\n",
       "<table border=\"1\" class=\"dataframe\">\n",
       "  <thead>\n",
       "    <tr style=\"text-align: right;\">\n",
       "      <th></th>\n",
       "      <th>Title</th>\n",
       "      <th>Genres</th>\n",
       "      <th>Release Date</th>\n",
       "      <th>Release Year</th>\n",
       "      <th>Release Month</th>\n",
       "      <th>Release Country</th>\n",
       "      <th>Movie Rating</th>\n",
       "      <th>Review Rating</th>\n",
       "      <th>Movie Run Time</th>\n",
       "      <th>Language</th>\n",
       "    </tr>\n",
       "  </thead>\n",
       "  <tbody>\n",
       "    <tr>\n",
       "      <th>1499</th>\n",
       "      <td>Countrycide (2017)</td>\n",
       "      <td>Horror</td>\n",
       "      <td>8-Sep-17</td>\n",
       "      <td>2017</td>\n",
       "      <td>9</td>\n",
       "      <td>USA</td>\n",
       "      <td>NaN</td>\n",
       "      <td>1.0</td>\n",
       "      <td>NaN</td>\n",
       "      <td>English</td>\n",
       "    </tr>\n",
       "    <tr>\n",
       "      <th>1691</th>\n",
       "      <td>Una Comedia Macabra (2017)</td>\n",
       "      <td>Comedy| Horror</td>\n",
       "      <td>21-Sep-17</td>\n",
       "      <td>2017</td>\n",
       "      <td>9</td>\n",
       "      <td>Peru</td>\n",
       "      <td>NaN</td>\n",
       "      <td>1.0</td>\n",
       "      <td>91 min</td>\n",
       "      <td>Spanish</td>\n",
       "    </tr>\n",
       "  </tbody>\n",
       "</table>\n",
       "</div>"
      ],
      "text/plain": [
       "                           Title           Genres Release Date  Release Year  \\\n",
       "1499          Countrycide (2017)           Horror     8-Sep-17          2017   \n",
       "1691  Una Comedia Macabra (2017)   Comedy| Horror    21-Sep-17          2017   \n",
       "\n",
       "      Release Month Release Country Movie Rating  Review Rating  \\\n",
       "1499              9             USA          NaN            1.0   \n",
       "1691              9            Peru          NaN            1.0   \n",
       "\n",
       "     Movie Run Time Language  \n",
       "1499            NaN  English  \n",
       "1691         91 min  Spanish  "
      ]
     },
     "execution_count": 14,
     "metadata": {},
     "output_type": "execute_result"
    }
   ],
   "source": [
    "# Identify Movies with the lowest rating\n",
    "lowest_rate = clean_data[clean_data['Review Rating'] == clean_data['Review Rating'].min()]\n",
    "lowest_rate"
   ]
  },
  {
   "cell_type": "code",
   "execution_count": null,
   "id": "92b83c5e",
   "metadata": {},
   "outputs": [],
   "source": []
  },
  {
   "cell_type": "code",
   "execution_count": null,
   "id": "d3588f93",
   "metadata": {},
   "outputs": [],
   "source": []
  }
 ],
 "metadata": {
  "kernelspec": {
   "display_name": "Python 3 (ipykernel)",
   "language": "python",
   "name": "python3"
  },
  "language_info": {
   "codemirror_mode": {
    "name": "ipython",
    "version": 3
   },
   "file_extension": ".py",
   "mimetype": "text/x-python",
   "name": "python",
   "nbconvert_exporter": "python",
   "pygments_lexer": "ipython3",
   "version": "3.7.7"
  }
 },
 "nbformat": 4,
 "nbformat_minor": 5
}
